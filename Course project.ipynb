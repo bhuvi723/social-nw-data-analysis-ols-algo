{
 "cells": [
  {
   "cell_type": "markdown",
   "id": "2df5c26e",
   "metadata": {},
   "source": [
    "# HYDERABAD INSTITUTE OF TECHNOLOGY AND MANAGEMENT\n",
    "# DEPARTMENT OF ET(CSD)\n",
    "# COURSE PROJECT\n",
    "# III B.Tech II Semester A.Y 2023-2024"
   ]
  },
  {
   "cell_type": "markdown",
   "id": "71f0c097",
   "metadata": {},
   "source": [
    "# SOCIAL NETWORK DATA ANALYZER"
   ]
  },
  {
   "cell_type": "code",
   "execution_count": 1,
   "id": "e285f39c",
   "metadata": {},
   "outputs": [],
   "source": [
    "# import pylab"
   ]
  },
  {
   "cell_type": "code",
   "execution_count": 2,
   "id": "7ac51516",
   "metadata": {},
   "outputs": [],
   "source": [
    "from pandas import Series, DataFrame\n",
    "import pandas as pd\n",
    "import matplotlib.pyplot as plt\n",
    "\n",
    "# Resetting plotting Defaults\n",
    "import matplotlib as mpl\n",
    "mpl.rcParams.update(mpl.rcParamsDefault)\n",
    "\n",
    "# Activate inline plotting\n",
    "%matplotlib inline\n"
   ]
  },
  {
   "cell_type": "code",
   "execution_count": 3,
   "id": "8318ae74",
   "metadata": {},
   "outputs": [],
   "source": [
    "import pandas as pd\n",
    "\n",
    "fb = pd.read_csv(\"pseudo_facebook.csv\", dtype={\n",
    "    'userid': int,\n",
    "    'age': int,\n",
    "    'dob_day': int,\n",
    "    'dob_year': int,\n",
    "    'dob_month': int,\n",
    "    'gender': str,\n",
    "    'tenure': float,\n",
    "    'friend_count': int,\n",
    "    'friendships_initiated': int,\n",
    "    'likes': int,\n",
    "    'likes_received': int,\n",
    "    'mobile_likes': int,\n",
    "    'mobile_likes_received': int,\n",
    "    'www_likes': int,\n",
    "    'www_likes_received': int\n",
    "})\n"
   ]
  },
  {
   "cell_type": "code",
   "execution_count": 4,
   "id": "b0122708",
   "metadata": {},
   "outputs": [
    {
     "data": {
      "text/html": [
       "<div>\n",
       "<style scoped>\n",
       "    .dataframe tbody tr th:only-of-type {\n",
       "        vertical-align: middle;\n",
       "    }\n",
       "\n",
       "    .dataframe tbody tr th {\n",
       "        vertical-align: top;\n",
       "    }\n",
       "\n",
       "    .dataframe thead th {\n",
       "        text-align: right;\n",
       "    }\n",
       "</style>\n",
       "<table border=\"1\" class=\"dataframe\">\n",
       "  <thead>\n",
       "    <tr style=\"text-align: right;\">\n",
       "      <th></th>\n",
       "      <th>userid</th>\n",
       "      <th>age</th>\n",
       "      <th>dob_day</th>\n",
       "      <th>dob_year</th>\n",
       "      <th>dob_month</th>\n",
       "      <th>gender</th>\n",
       "      <th>tenure</th>\n",
       "      <th>friend_count</th>\n",
       "      <th>friendships_initiated</th>\n",
       "      <th>likes</th>\n",
       "      <th>likes_received</th>\n",
       "      <th>mobile_likes</th>\n",
       "      <th>mobile_likes_received</th>\n",
       "      <th>www_likes</th>\n",
       "      <th>www_likes_received</th>\n",
       "    </tr>\n",
       "  </thead>\n",
       "  <tbody>\n",
       "    <tr>\n",
       "      <th>0</th>\n",
       "      <td>2094382</td>\n",
       "      <td>14</td>\n",
       "      <td>19</td>\n",
       "      <td>1999</td>\n",
       "      <td>11</td>\n",
       "      <td>male</td>\n",
       "      <td>266.0</td>\n",
       "      <td>0</td>\n",
       "      <td>0</td>\n",
       "      <td>0</td>\n",
       "      <td>0</td>\n",
       "      <td>0</td>\n",
       "      <td>0</td>\n",
       "      <td>0</td>\n",
       "      <td>0</td>\n",
       "    </tr>\n",
       "    <tr>\n",
       "      <th>1</th>\n",
       "      <td>1192601</td>\n",
       "      <td>14</td>\n",
       "      <td>2</td>\n",
       "      <td>1999</td>\n",
       "      <td>11</td>\n",
       "      <td>female</td>\n",
       "      <td>6.0</td>\n",
       "      <td>0</td>\n",
       "      <td>0</td>\n",
       "      <td>0</td>\n",
       "      <td>0</td>\n",
       "      <td>0</td>\n",
       "      <td>0</td>\n",
       "      <td>0</td>\n",
       "      <td>0</td>\n",
       "    </tr>\n",
       "    <tr>\n",
       "      <th>2</th>\n",
       "      <td>2083884</td>\n",
       "      <td>14</td>\n",
       "      <td>16</td>\n",
       "      <td>1999</td>\n",
       "      <td>11</td>\n",
       "      <td>male</td>\n",
       "      <td>13.0</td>\n",
       "      <td>0</td>\n",
       "      <td>0</td>\n",
       "      <td>0</td>\n",
       "      <td>0</td>\n",
       "      <td>0</td>\n",
       "      <td>0</td>\n",
       "      <td>0</td>\n",
       "      <td>0</td>\n",
       "    </tr>\n",
       "    <tr>\n",
       "      <th>3</th>\n",
       "      <td>1203168</td>\n",
       "      <td>14</td>\n",
       "      <td>25</td>\n",
       "      <td>1999</td>\n",
       "      <td>12</td>\n",
       "      <td>female</td>\n",
       "      <td>93.0</td>\n",
       "      <td>0</td>\n",
       "      <td>0</td>\n",
       "      <td>0</td>\n",
       "      <td>0</td>\n",
       "      <td>0</td>\n",
       "      <td>0</td>\n",
       "      <td>0</td>\n",
       "      <td>0</td>\n",
       "    </tr>\n",
       "    <tr>\n",
       "      <th>4</th>\n",
       "      <td>1733186</td>\n",
       "      <td>14</td>\n",
       "      <td>4</td>\n",
       "      <td>1999</td>\n",
       "      <td>12</td>\n",
       "      <td>male</td>\n",
       "      <td>82.0</td>\n",
       "      <td>0</td>\n",
       "      <td>0</td>\n",
       "      <td>0</td>\n",
       "      <td>0</td>\n",
       "      <td>0</td>\n",
       "      <td>0</td>\n",
       "      <td>0</td>\n",
       "      <td>0</td>\n",
       "    </tr>\n",
       "  </tbody>\n",
       "</table>\n",
       "</div>"
      ],
      "text/plain": [
       "    userid  age  dob_day  dob_year  dob_month  gender  tenure  friend_count  \\\n",
       "0  2094382   14       19      1999         11    male   266.0             0   \n",
       "1  1192601   14        2      1999         11  female     6.0             0   \n",
       "2  2083884   14       16      1999         11    male    13.0             0   \n",
       "3  1203168   14       25      1999         12  female    93.0             0   \n",
       "4  1733186   14        4      1999         12    male    82.0             0   \n",
       "\n",
       "   friendships_initiated  likes  likes_received  mobile_likes  \\\n",
       "0                      0      0               0             0   \n",
       "1                      0      0               0             0   \n",
       "2                      0      0               0             0   \n",
       "3                      0      0               0             0   \n",
       "4                      0      0               0             0   \n",
       "\n",
       "   mobile_likes_received  www_likes  www_likes_received  \n",
       "0                      0          0                   0  \n",
       "1                      0          0                   0  \n",
       "2                      0          0                   0  \n",
       "3                      0          0                   0  \n",
       "4                      0          0                   0  "
      ]
     },
     "execution_count": 4,
     "metadata": {},
     "output_type": "execute_result"
    }
   ],
   "source": [
    "fb.head(5)"
   ]
  },
  {
   "cell_type": "markdown",
   "id": "a7825b99",
   "metadata": {},
   "source": [
    "# 1. Sanity check"
   ]
  },
  {
   "cell_type": "code",
   "execution_count": 5,
   "id": "55b1f9c0",
   "metadata": {},
   "outputs": [],
   "source": [
    "check_null=fb.isnull()"
   ]
  },
  {
   "cell_type": "code",
   "execution_count": 6,
   "id": "0c3db02d",
   "metadata": {},
   "outputs": [
    {
     "ename": "TypeError",
     "evalue": "unsupported operand type(s) for +: 'int' and 'str'",
     "output_type": "error",
     "traceback": [
      "\u001b[1;31m---------------------------------------------------------------------------\u001b[0m",
      "\u001b[1;31mTypeError\u001b[0m                                 Traceback (most recent call last)",
      "Cell \u001b[1;32mIn[6], line 1\u001b[0m\n\u001b[1;32m----> 1\u001b[0m \u001b[38;5;28msum\u001b[39m(check_null)\n",
      "\u001b[1;31mTypeError\u001b[0m: unsupported operand type(s) for +: 'int' and 'str'"
     ]
    }
   ],
   "source": [
    "sum(check_null)"
   ]
  },
  {
   "cell_type": "markdown",
   "id": "0f870d85",
   "metadata": {},
   "source": [
    "Observation: Gender & tenure has null values, we should not delete these as users might have kept it blank"
   ]
  },
  {
   "cell_type": "markdown",
   "id": "3b53fbf8",
   "metadata": {},
   "source": [
    "# Generic Variable distribution"
   ]
  },
  {
   "cell_type": "code",
   "execution_count": null,
   "id": "cfeb0ec1",
   "metadata": {},
   "outputs": [],
   "source": [
    "fb.columns.values"
   ]
  },
  {
   "cell_type": "code",
   "execution_count": null,
   "id": "e348c24f",
   "metadata": {},
   "outputs": [],
   "source": [
    "fb.dtypes"
   ]
  },
  {
   "cell_type": "code",
   "execution_count": null,
   "id": "bb2fca5e",
   "metadata": {},
   "outputs": [],
   "source": [
    "forhist=['age','friend_count', 'friendships_initiated', 'likes',\n",
    "       'likes_received', 'mobile_likes', 'mobile_likes_received',\n",
    "       'www_likes','www_likes_received','tenure']\n",
    "fb_subset1=pd.DataFrame(fb[forhist])\n",
    "fb_subset1.hist(figsize=(12,12), color='#41b6c4')"
   ]
  },
  {
   "cell_type": "code",
   "execution_count": null,
   "id": "38624bed",
   "metadata": {},
   "outputs": [],
   "source": [
    "# remove outliers\n",
    "def rem_out(elements):\n",
    "    mean = numpy.mean(elements, axis=0)\n",
    "    sd = numpy.std(elements, axis=0)\n",
    "    final_list = [x for x in elements if (x > mean - 2 * sd)]\n",
    "    final_list = [x for x in final_list if (x < mean + 2 * sd)]\n",
    "    return final_list"
   ]
  },
  {
   "cell_type": "markdown",
   "id": "3aeac50f",
   "metadata": {},
   "source": [
    "# Users with most number of likes\n"
   ]
  },
  {
   "cell_type": "code",
   "execution_count": null,
   "id": "0d094264",
   "metadata": {},
   "outputs": [],
   "source": [
    "# import matplotlib as mpl\n",
    "# mpl.rcParams.update(mpl.rcParamsDefault)"
   ]
  },
  {
   "cell_type": "code",
   "execution_count": null,
   "id": "3a82b4e0",
   "metadata": {},
   "outputs": [],
   "source": [
    "#mycolors=np.array(['#F8B195','#F67280','#C06C84','#6C5B7B', '#355C7D'])\n",
    "mycolors=np.array(['#225ea8', '#41b6c4', '#a1dab4', '#ffffcc'])\n",
    "k=fb[['userid','likes']].reset_index()\n",
    "k['likes'].sort_values(ascending=False)[:5].plot(kind='bar', color=mycolors, width=0.8)"
   ]
  },
  {
   "cell_type": "markdown",
   "id": "cb152507",
   "metadata": {},
   "source": [
    "# Friend count Distribution"
   ]
  },
  {
   "cell_type": "markdown",
   "id": "ac8369a6",
   "metadata": {},
   "source": [
    "For 95% observations we have friend count between 0 to 1000"
   ]
  },
  {
   "cell_type": "code",
   "execution_count": null,
   "id": "a5d75f07",
   "metadata": {},
   "outputs": [],
   "source": [
    "pd.Series(rem_out(fb_subset1['friend_count'])).hist(bins=100, color='#a1dab4')"
   ]
  },
  {
   "cell_type": "code",
   "execution_count": null,
   "id": "cfb2708e",
   "metadata": {},
   "outputs": [],
   "source": [
    "# Top 5\n",
    "fb[['friend_count','userid']].sort_values(by='friend_count', ascending = False)[:5].set_index('userid')"
   ]
  },
  {
   "cell_type": "markdown",
   "id": "1775d025",
   "metadata": {},
   "source": [
    "# Likes Distribution"
   ]
  },
  {
   "cell_type": "markdown",
   "id": "70873fc1",
   "metadata": {},
   "source": [
    "For 95% observations we have likes between 0 to 1200"
   ]
  },
  {
   "cell_type": "code",
   "execution_count": null,
   "id": "1bafad3d",
   "metadata": {},
   "outputs": [],
   "source": [
    "Generic_likes=rem_out(fb['likes'])\n",
    "pd.Series(Generic_likes).hist(bins=100, color='#41b6c4')"
   ]
  },
  {
   "cell_type": "markdown",
   "id": "41ef418b",
   "metadata": {},
   "source": [
    "# 2. Exploratory Data Analysis"
   ]
  },
  {
   "cell_type": "raw",
   "id": "996c7544",
   "metadata": {},
   "source": [
    "Correlation plot shows magnitude of correlation between pairwise variables in dataset"
   ]
  },
  {
   "cell_type": "markdown",
   "id": "11d9464c",
   "metadata": {},
   "source": [
    "1.Friend count & friendships inititated are strongly correlated\n",
    "2.We would ignore correlations of subsets of likes & likes received as these are bound to be correlated (here we refer to mobile & site likes/likes received)\n",
    "3.Tenure and Age also seem to be related"
   ]
  },
  {
   "cell_type": "code",
   "execution_count": null,
   "id": "85c50a9f",
   "metadata": {},
   "outputs": [],
   "source": [
    "import seaborn as sns # just a conventional alias, don't know why"
   ]
  },
  {
   "cell_type": "code",
   "execution_count": null,
   "id": "3fe63148",
   "metadata": {},
   "outputs": [],
   "source": [
    "# Remove object column in dataframe to use heatmap (Gender here)\n",
    "cols=['age','tenure', 'friend_count', 'friendships_initiated', 'likes',\n",
    "       'likes_received', 'mobile_likes', 'mobile_likes_received',\n",
    "       'www_likes', 'www_likes_received']\n",
    "fb_hm=fb[cols]\n",
    "fb_hm=fb_hm.fillna(0)\n",
    "# sns.heatmap(features.drop(['columnName01_OfTypeObject','columnName02_OfTypeObject'],axis=1)\n",
    "corr = fb_hm.corr(method='pearson')\n",
    "mask = np.zeros_like(corr)\n",
    "mask[np.triu_indices_from(mask)] = True\n",
    "fig, ax = plt.subplots(figsize=(10,10)) \n",
    "with sns.axes_style(\"white\"):\n",
    "    ax = sns.heatmap(corr, mask=mask, vmax=1, square=True,cmap=\"YlGnBu\", linewidths=.8)\n",
    "ax.set_title('Correlation Plot', size=20)\n",
    "ax.set_xlabel('Variables', size=16)\n",
    "ax.set_ylabel('Variables', size=16)\n",
    "ax.set_xticklabels(cols,fontsize=14)\n",
    "ax.set_yticklabels(cols,fontsize=14)"
   ]
  },
  {
   "cell_type": "markdown",
   "id": "0269b288",
   "metadata": {},
   "source": [
    "### Likes by Birth Year & month"
   ]
  },
  {
   "cell_type": "markdown",
   "id": "19da832a",
   "metadata": {},
   "source": [
    "1.As years are increasing on x-axis there are more number of likes, depicting extensive usage of facebook\n",
    "2.Month prominence for year 1994-95, two months standout in number of likes September & March (fun observation)"
   ]
  },
  {
   "cell_type": "code",
   "execution_count": null,
   "id": "12364db2",
   "metadata": {},
   "outputs": [],
   "source": [
    "fb_likes = pd.pivot_table(fb,index='dob_month', columns='dob_year',values= 'likes', aggfunc='mean')\n",
    "fig, ax = plt.subplots(figsize=(15,5)) \n",
    "x = sns.heatmap(fb_likes, cmap=\"YlGnBu\", ax=ax)\n",
    "ax.set_title('Likes by Birth Year & Month', size=20)\n",
    "ax.set_xlabel('Years', size=16)\n",
    "ax.set_ylabel('Months', size=16)"
   ]
  },
  {
   "cell_type": "markdown",
   "id": "851b0a15",
   "metadata": {},
   "source": [
    "### Tenure by Birth Year & month\n",
    "\n",
    "The early years seem to have more mean tenure, might be facebook pages or public user accounts that are mass followed"
   ]
  },
  {
   "cell_type": "code",
   "execution_count": null,
   "id": "be87a257",
   "metadata": {},
   "outputs": [],
   "source": [
    "fb_likes = pd.pivot_table(fb,index='dob_month', columns='dob_year',values= 'tenure', aggfunc='mean')\n",
    "fig, ax = plt.subplots(figsize=(15,5)) \n",
    "x = sns.heatmap(fb_likes, cmap=\"YlGnBu\", ax=ax)\n",
    "ax.set_title('Tenure by Birth Year & Month', size=20)\n",
    "ax.set_xlabel('Years', size=16)\n",
    "ax.set_ylabel('Months', size=16)"
   ]
  },
  {
   "cell_type": "markdown",
   "id": "8193ff54",
   "metadata": {},
   "source": [
    "### Likes received (depicting popularity)\n",
    "It's a many to one relationship, many people give likes to a user.\n",
    "Top users's likes show shift of people preferences towards mobile apps rather than site (mostly higher mobile likes than site likes)"
   ]
  },
  {
   "cell_type": "code",
   "execution_count": null,
   "id": "ad120d5c",
   "metadata": {},
   "outputs": [],
   "source": [
    "#'#F8B195','#F67280','#C06C84','#6C5B7B', '#355C7D'\n",
    "# '#225ea8', '#41b6c4', '#a1dab4', '#ffffcc'\n",
    "# libraries\n",
    "import matplotlib.pyplot as plt\n",
    "fb_toplikes_received=fb.sort_values(by='likes_received', ascending=False)[:5]\n",
    "    \n",
    "# Values of each group\n",
    "bars1 = fb_toplikes_received['mobile_likes_received']\n",
    "bars2 = fb_toplikes_received['www_likes_received']\n",
    "\n",
    "# The position of the bars on the x-axis\n",
    "r = [0,1,2,3,4]\n",
    " \n",
    "# Names of group and bar width\n",
    "names = fb_toplikes_received['userid']\n",
    "barWidth = 1\n",
    " \n",
    "# Create brown bars\n",
    "plt.bar(r, bars1, color='#225ea8', edgecolor='white', width=barWidth, label='mobile likes')\n",
    "# Create green bars (middle), on top of the firs ones\n",
    "plt.bar(r, bars2, bottom=bars1, color='#41b6c4', edgecolor='white', width=barWidth, label='site likes')\n",
    " \n",
    "# Custom X axis\n",
    "plt.xticks(r, names, rotation =40)\n",
    "plt.xlabel(\"User ID\", size = 14)\n",
    "plt.ylabel(\"Likes Received\", size = 14)\n",
    "plt.title(\"Likes Received split up (Mobile v/s site)\")\n",
    "plt.legend(loc='best')\n",
    "# Show graphic\n",
    "plt.show()"
   ]
  },
  {
   "cell_type": "markdown",
   "id": "867150ec",
   "metadata": {},
   "source": [
    "### Likes given (depicting individual preference)\n",
    "It's a one to many relationship, a user gives likes to many people.\n",
    "Top 4,6,7 & 10 user prefer the site more than mobile app\n",
    "Still a general skew towards mobile app"
   ]
  },
  {
   "cell_type": "code",
   "execution_count": null,
   "id": "ebff1bbe",
   "metadata": {},
   "outputs": [],
   "source": [
    "# libraries\n",
    "import matplotlib.pyplot as plt\n",
    "fb_toplikes=fb.sort_values(by='likes', ascending=False)[:10]\n",
    "    \n",
    "# Values of each group\n",
    "bars1 = fb_toplikes['mobile_likes']\n",
    "bars2 = fb_toplikes['www_likes']\n",
    "\n",
    "# The position of the bars on the x-axis\n",
    "r = range(10)\n",
    " \n",
    "# Names of group and bar width\n",
    "names = fb_toplikes['userid']\n",
    "barWidth = 1\n",
    " \n",
    "# Create brown bars\n",
    "plt.bar(r, bars1, color='#a1dab4', edgecolor='white', width=barWidth, label='mobile likes')\n",
    "# Create green bars (middle), on top of the firs ones\n",
    "plt.bar(r, bars2, bottom=bars1, color='#225ea8', edgecolor='white', width=barWidth, label='site likes')\n",
    " \n",
    "# Custom X axis\n",
    "plt.xticks(r, names, rotation =40)\n",
    "plt.xlabel(\"User ID\", size = 14)\n",
    "plt.ylabel(\"Likes Received\", size = 14)\n",
    "plt.title(\"Likes split up (Mobile v/s site)\")\n",
    "plt.legend(loc='best')\n",
    " \n",
    "# Show graphic\n",
    "plt.show()"
   ]
  },
  {
   "cell_type": "markdown",
   "id": "6a12e4c8",
   "metadata": {},
   "source": [
    "### Gender Preference\n",
    "1.Interesting obsservation for gender specific interaction with facebook: women like as well as are liked a lot more than men (nearly 2.5 as much).\n",
    "2.Generically these likes & likes received are comparable to each other for both men & women.\n",
    "3.Same behaviour is true when the likes/like received are split up between mobile & site, here it's nearly 3 times more in some cases.\n",
    "### Friends Counts & Friendships initiated\n",
    "Women have more friends than men on facebook, the friendships initiated in proportion to friend count are more in case of men than women"
   ]
  },
  {
   "cell_type": "code",
   "execution_count": null,
   "id": "621eed77",
   "metadata": {},
   "outputs": [],
   "source": [
    "fb_gender=fb.fillna(\"NA\")\n",
    "fb_gender_pivot=fb_gender.pivot_table(index='gender', values=['likes','likes_received'],aggfunc='mean')\n"
   ]
  },
  {
   "cell_type": "code",
   "execution_count": null,
   "id": "6d6da9b8",
   "metadata": {},
   "outputs": [],
   "source": [
    "fb['gender'].value_counts()"
   ]
  },
  {
   "cell_type": "code",
   "execution_count": null,
   "id": "a0ac36db",
   "metadata": {},
   "outputs": [],
   "source": [
    "fb_gender_pivot"
   ]
  },
  {
   "cell_type": "code",
   "execution_count": null,
   "id": "52d304f0",
   "metadata": {},
   "outputs": [],
   "source": [
    "mask_g=fb_gender_pivot.index.values!='NA'\n",
    "fb_gender_pivot=fb_gender_pivot[mask_g]"
   ]
  },
  {
   "cell_type": "code",
   "execution_count": null,
   "id": "6a84bc03",
   "metadata": {},
   "outputs": [],
   "source": [
    "fb_gender_pivot.plot(kind='bar',color=mycolors)\n",
    "plt.xticks(size=10)\n",
    "plt.xlabel(\"Gender\", size = 14)\n",
    "plt.ylabel(\"Likes Received (*100 million)\", size = 14)\n",
    "plt.title(\"Likes & Likes Received by gender\")\n",
    "plt.legend(loc='best')"
   ]
  },
  {
   "cell_type": "code",
   "execution_count": null,
   "id": "ea834b59",
   "metadata": {},
   "outputs": [],
   "source": [
    "fb_gender=fb.fillna(\"NA\")\n",
    "fb_gender_pivot=fb_gender.pivot_table(index='gender', values=['mobile_likes', 'mobile_likes_received',\n",
    "       'www_likes','www_likes_received'],aggfunc='mean')\n",
    "# Drop NA as it is very minute\n",
    "mask_g=fb_gender_pivot.index.values!='NA'\n",
    "fb_gender_pivot=fb_gender_pivot[mask_g]\n",
    "fb_gender_pivot.plot(kind='bar',color=mycolors)\n",
    "plt.xticks(size=10)\n",
    "plt.xlabel(\"Gender\", size = 14)\n",
    "plt.ylabel(\"Likes & Likes Received\", size = 14)\n",
    "plt.title(\"Likes & Likes Received by gender (mobile & site)\")\n",
    "plt.legend(loc='best')"
   ]
  },
  {
   "cell_type": "code",
   "execution_count": null,
   "id": "db4f7b6d",
   "metadata": {},
   "outputs": [],
   "source": [
    "fb_gender=fb.fillna(\"NA\")\n",
    "fb_gender_pivot=fb_gender.pivot_table(index='gender', values=['friend_count', 'friendships_initiated'],aggfunc='mean')\n",
    "# Drop NA as it is very minute\n",
    "mask_g=fb_gender_pivot.index.values!='NA'\n",
    "fb_gender_pivot=fb_gender_pivot[mask_g]\n",
    "fb_gender_pivot.plot(kind='bar',color=mycolors)\n",
    "plt.xticks(size=10)\n",
    "plt.xlabel(\"Gender\", size = 14)\n",
    "plt.ylabel(\"Total Friends & Friendships Initiated\", size = 14)\n",
    "plt.title(\"Total Friends & Friendships Initiated\")\n",
    "plt.legend(loc=(1.1,.85))"
   ]
  },
  {
   "cell_type": "markdown",
   "id": "904bc1c6",
   "metadata": {},
   "source": [
    "### Users w.r.t birth year\n",
    "We see bumps between 1940 to 1980. After 1980 the no. users rocket. Since the data is till 2000 (we see miniscule value in 2000)"
   ]
  },
  {
   "cell_type": "code",
   "execution_count": null,
   "id": "47a8ca21",
   "metadata": {},
   "outputs": [],
   "source": [
    "fb_yearwise=fb[['dob_year','userid']].drop_duplicates().sort_values(by='dob_year')"
   ]
  },
  {
   "cell_type": "code",
   "execution_count": null,
   "id": "b99a8e6d",
   "metadata": {},
   "outputs": [],
   "source": [
    "fb_yearwise=fb_yearwise.reset_index()\n",
    "fb_yearwise.head(2)"
   ]
  },
  {
   "cell_type": "code",
   "execution_count": null,
   "id": "7e47652c",
   "metadata": {},
   "outputs": [],
   "source": [
    "fb_yearwise=fb_yearwise.groupby(['dob_year'])[['userid']].agg('count')\n",
    "fb_yearwise.columns=['No. of Users']"
   ]
  },
  {
   "cell_type": "code",
   "execution_count": null,
   "id": "2a0676fb",
   "metadata": {},
   "outputs": [],
   "source": [
    "fb_yearwise.plot(kind='line')\n",
    "plt.legend(loc=(0.60,0.9))\n",
    "plt.xlabel(\"Years\", size = 14)\n",
    "plt.ylabel(\"No.of Users\", size = 14)\n",
    "plt.title(\"Total no. of Users w.r.t birth year\")"
   ]
  },
  {
   "cell_type": "code",
   "execution_count": null,
   "id": "571bc4c2",
   "metadata": {},
   "outputs": [],
   "source": [
    "age=pd.Series(rem_out(fb['age']))\n",
    "age.hist(bins=50, color='#a1dab4')\n",
    "plt.xlabel(\"Age\", size = 14)\n",
    "plt.ylabel(\"No.of Users\", size = 14)\n",
    "plt.title(\"Age wise distribution of Users\")"
   ]
  },
  {
   "cell_type": "markdown",
   "id": "98d3d782",
   "metadata": {},
   "source": [
    "# 3. Modelling"
   ]
  },
  {
   "cell_type": "markdown",
   "id": "c6071136",
   "metadata": {},
   "source": [
    "We will try to predict likes received on the basis of other predictors (leaving out inter-related variables such as likes received from mobile, site etc.). This is to understand dependence of profile visibility on the variables that are given."
   ]
  },
  {
   "cell_type": "code",
   "execution_count": null,
   "id": "b5c51310",
   "metadata": {},
   "outputs": [],
   "source": [
    "model_columns=['age', 'dob_day', 'dob_year', 'dob_month', 'gender',\n",
    "       'tenure', 'friend_count', 'friendships_initiated', 'likes',\n",
    "       'likes_received']\n",
    "fb_model=fb.dropna()"
   ]
  },
  {
   "cell_type": "code",
   "execution_count": null,
   "id": "228013f7",
   "metadata": {},
   "outputs": [],
   "source": [
    "categorical_columns = ['gender']\n",
    "f=['age',\n",
    "       'tenure', 'friend_count', 'friendships_initiated',\n",
    "       'likes_received']\n",
    "formula = '{}'.format(' + '.join(['C({})'.format(x) for x in categorical_columns]))\n",
    "m = 'likes ~ 0 + {}'.format(' + '.join(['Q(\"{}\")'.format(x) for x in f]))"
   ]
  },
  {
   "cell_type": "code",
   "execution_count": null,
   "id": "91bf96ef",
   "metadata": {},
   "outputs": [],
   "source": [
    "n=m+'+'+formula\n",
    "n"
   ]
  },
  {
   "cell_type": "code",
   "execution_count": null,
   "id": "9f918dcc",
   "metadata": {},
   "outputs": [],
   "source": [
    "import statsmodels.api as sm\n",
    "from patsy import dmatrices\n",
    "y, X = dmatrices(n, data=fb_model, return_type='dataframe')"
   ]
  },
  {
   "cell_type": "code",
   "execution_count": null,
   "id": "0e1d1b14",
   "metadata": {},
   "outputs": [],
   "source": [
    "\n",
    "from sklearn.model_selection import train_test_split\n",
    "X_train, X_test, y_train, y_test = train_test_split(X, y, test_size=0.3, random_state=1)\n",
    "model = sm.OLS(y_train, X_train)       # Set up the model\n",
    "result = model.fit()       # Fit model (find the intercept and slopes)\n",
    "print(result.summary())"
   ]
  },
  {
   "cell_type": "code",
   "execution_count": null,
   "id": "06482a74",
   "metadata": {},
   "outputs": [],
   "source": [
    "########\n",
    "from sklearn import metrics\n",
    "prediction = pd.DataFrame(model.fit().predict(X_test))"
   ]
  },
  {
   "cell_type": "code",
   "execution_count": null,
   "id": "5c812d8d",
   "metadata": {},
   "outputs": [],
   "source": [
    "Results=y_test.merge(prediction, left_index=True, right_index=True)"
   ]
  },
  {
   "cell_type": "code",
   "execution_count": null,
   "id": "78f79761",
   "metadata": {},
   "outputs": [],
   "source": [
    "MAPE = sqrt(mean(abs(Results[0]-Results['likes'])**2))"
   ]
  },
  {
   "cell_type": "code",
   "execution_count": null,
   "id": "5a89a3dd",
   "metadata": {},
   "outputs": [],
   "source": [
    "Results=Results.reset_index()[['likes',0]]\n",
    "Results.columns=['Actual','Predicted']"
   ]
  },
  {
   "cell_type": "code",
   "execution_count": null,
   "id": "7ff3f589",
   "metadata": {},
   "outputs": [],
   "source": [
    "Results.plot(kind='line')"
   ]
  },
  {
   "cell_type": "markdown",
   "id": "4a434dbe",
   "metadata": {},
   "source": [
    "# TEAM MEMBERS:\n",
    "    KULPAGURI VAISHNAVI-21E51A6723\n",
    "    NARSAREDDYGARI SAKETH REDDY-21E51A6731\n",
    "    PUSAPATI JYOTHIRNAGAMAI-21E51A6741\n",
    "    SALVAJI BHUVAN-21E51A6747"
   ]
  },
  {
   "cell_type": "markdown",
   "id": "950181ef",
   "metadata": {},
   "source": [
    "# THANK YOU"
   ]
  }
 ],
 "metadata": {
  "kernelspec": {
   "display_name": "Python 3 (ipykernel)",
   "language": "python",
   "name": "python3"
  },
  "language_info": {
   "codemirror_mode": {
    "name": "ipython",
    "version": 3
   },
   "file_extension": ".py",
   "mimetype": "text/x-python",
   "name": "python",
   "nbconvert_exporter": "python",
   "pygments_lexer": "ipython3",
   "version": "3.11.4"
  }
 },
 "nbformat": 4,
 "nbformat_minor": 5
}
